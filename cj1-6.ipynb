{
 "cells": [
  {
   "cell_type": "code",
   "execution_count": 1,
   "id": "a1158ecf",
   "metadata": {},
   "outputs": [],
   "source": [
    "import math\n",
    "\n",
    "\n",
    "def my_sin(x):\n",
    "    return math.sin(x)"
   ]
  },
  {
   "cell_type": "markdown",
   "id": "882f43ab",
   "metadata": {},
   "source": [
    "The cell above makes use of the math library in order to create a function that returns sin(x) to the user"
   ]
  },
  {
   "cell_type": "code",
   "execution_count": 2,
   "id": "72308199",
   "metadata": {},
   "outputs": [],
   "source": [
    "def my_cos(x):\n",
    "    return math.cos(x)"
   ]
  },
  {
   "cell_type": "markdown",
   "id": "2ded4d96",
   "metadata": {},
   "source": [
    "The cell above makes use of the math library in order to create a function that returns cos(x) to the user"
   ]
  },
  {
   "cell_type": "code",
   "execution_count": 3,
   "id": "209cf3a0",
   "metadata": {},
   "outputs": [],
   "source": [
    "def cos_sin_table():\n",
    "    print(\"sin(x)\\t cos(x)   x\")\n",
    "    for i in range(0, 1001, 1):\n",
    "        print(\"%2.6f %2.6f %2.6f\" % (my_sin(0 + i * (2 * math.pi / 1000)), my_cos(0 + i * (2 * math.pi / 1000)), (i * (2 * math.pi / 1000))))\n"
   ]
  },
  {
   "cell_type": "markdown",
   "id": "94df6bb8",
   "metadata": {},
   "source": [
    "The cell above creates a table of the values of sin(x) and cos(x) using these previously defined functions vs. x, where x is tabulated between 0 and 2pi with a thousand entries."
   ]
  },
  {
   "cell_type": "code",
   "execution_count": 4,
   "id": "f8d78b4a",
   "metadata": {},
   "outputs": [
    {
     "name": "stdout",
     "output_type": "stream",
     "text": [
      "0.000000 1.000000 0.000000\n",
      "0.006283 0.999980 0.006283\n",
      "0.012566 0.999921 0.012566\n",
      "0.018848 0.999822 0.018850\n",
      "0.025130 0.999684 0.025133\n",
      "0.031411 0.999507 0.031416\n",
      "0.037690 0.999289 0.037699\n",
      "0.043968 0.999033 0.043982\n",
      "0.050244 0.998737 0.050265\n",
      "0.056519 0.998402 0.056549\n"
     ]
    }
   ],
   "source": [
    "def print_sin_cos():\n",
    "    count = 10\n",
    "    for i in range(0, 1001, 1):\n",
    "        if(count > 0):\n",
    "            print(\"%2.6f %2.6f %2.6f\" % (my_sin(0 + i * (2 * math.pi / 1000)), my_cos(0 + i * (2 * math.pi / 1000)), (i * (2 * math.pi / 1000))))\n",
    "            count -=1\n",
    "\n",
    "print_sin_cos()"
   ]
  },
  {
   "cell_type": "markdown",
   "id": "f2e7c37f",
   "metadata": {},
   "source": [
    "The cell above prints out the first 10 values of sin(x), cos(x) where x is tabulated between 0 and 2pi with a thousand entires"
   ]
  }
 ],
 "metadata": {
  "kernelspec": {
   "display_name": "Python 3 (ipykernel)",
   "language": "python",
   "name": "python3"
  },
  "language_info": {
   "codemirror_mode": {
    "name": "ipython",
    "version": 3
   },
   "file_extension": ".py",
   "mimetype": "text/x-python",
   "name": "python",
   "nbconvert_exporter": "python",
   "pygments_lexer": "ipython3",
   "version": "3.9.7"
  }
 },
 "nbformat": 4,
 "nbformat_minor": 5
}
